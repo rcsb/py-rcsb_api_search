{
 "cells": [
  {
   "attachments": {},
   "cell_type": "markdown",
   "id": "upper-filing",
   "metadata": {},
   "source": [
    "# rcsbsearchapi quickstart\n",
    "\n",
    "This notebook contains examples from the rcsbsearchapi [quickstart](https://rcsbsearchapi.readthedocs.io/en/latest/quickstart.html)"
   ]
  },
  {
   "cell_type": "code",
   "execution_count": null,
   "id": "african-monthly",
   "metadata": {},
   "outputs": [],
   "source": [
    "from rcsbsearchapi.search import TextQuery, AttributeQuery, SequenceQuery, SeqMotifQuery, StructSimilarityQuery, Attr\n",
    "from rcsbsearchapi import rcsb_attributes as attrs\n",
    "from rcsbsearchapi.const import STRUCTURE_ATTRIBUTE_SEARCH_SERVICE\n",
    "from rcsbsearchapi.const import CHEMICAL_ATTRIBUTE_SEARCH_SERVICE"
   ]
  },
  {
   "attachments": {},
   "cell_type": "markdown",
   "id": "sublime-karen",
   "metadata": {},
   "source": [
    "## Operator syntax\n",
    "\n",
    "Here is an example from the [RCSB PDB Search API](http://search.rcsb.org/#search-example-1) page, using the operator syntax. This query finds symmetric dimers having a twofold rotation with the DNA-binding domain of a heat-shock transcription factor. Full text and attribute search are used.\n",
    "\n",
    "Note the use of standard comparison operators (`==`, `>` etc) for rcsb attributes and set operators for combining queries."
   ]
  },
  {
   "cell_type": "code",
   "execution_count": null,
   "id": "enabling-america",
   "metadata": {},
   "outputs": [],
   "source": [
    "# Create terminals for each query\n",
    "q1 = TextQuery(\"heat-shock transcription factor\")\n",
    "q2 = attrs.rcsb_struct_symmetry.symbol == \"C2\"\n",
    "q3 = attrs.rcsb_struct_symmetry.kind == \"Global Symmetry\"\n",
    "q4 = attrs.rcsb_entry_info.polymer_entity_count_DNA >= 1\n",
    "\n",
    "# combined using bitwise operators (&, |, ~, etc)\n",
    "query = q1 & (q2 & q3 & q4) # AND of all queries\n",
    "\n",
    "# Call the query to execute it\n",
    "for assemblyid in query(\"assembly\"): # return type specified as \"assembly\"\n",
    "    print(assemblyid)\n"
   ]
  },
  {
   "attachments": {},
   "cell_type": "markdown",
   "id": "accomplished-passion",
   "metadata": {},
   "source": [
    "Attribute names can be found in the [RCSB schema](http://search.rcsb.org/rcsbsearch/v2/metadata/schema). They can also be found via tab completion, or by iterating:"
   ]
  },
  {
   "cell_type": "code",
   "execution_count": null,
   "id": "supported-observer",
   "metadata": {},
   "outputs": [],
   "source": [
    "[a.attribute for a in attrs if \"authors\" in a.attribute]"
   ]
  },
  {
   "attachments": {},
   "cell_type": "markdown",
   "id": "other-grant",
   "metadata": {},
   "source": [
    "## Fluent syntax\n",
    "\n",
    "Here is the same example using the [fluent](https://en.wikipedia.org/wiki/Fluent_interface) syntax:"
   ]
  },
  {
   "cell_type": "code",
   "execution_count": null,
   "id": "polish-indonesia",
   "metadata": {},
   "outputs": [],
   "source": [
    "# Start with a Attr or TextQuery, then add terms\n",
    "results = TextQuery(\"heat-shock transcription factor\").and_(\n",
    "    # Add attribute node as fully-formed AttributeQuery\n",
    "    AttributeQuery(\"rcsb_struct_symmetry.symbol\", \"exact_match\", \"C2\") \\\n",
    "    # Add attribute node as Attr with chained operations\n",
    "    .and_(Attr(\"rcsb_struct_symmetry.kind\")).exact_match(\"Global Symmetry\") \\\n",
    "    # Add attribute node by name (converted to Attr) with chained operations\n",
    "    .and_(\"rcsb_entry_info.polymer_entity_count_DNA\").greater_or_equal(1)\n",
    "    ).exec(\"assembly\")\n",
    "# Exec produces an iterator of IDs\n",
    "\n",
    "for assemblyid in results:\n",
    "    print(assemblyid)"
   ]
  },
  {
   "attachments": {},
   "cell_type": "markdown",
   "id": "032e01e6",
   "metadata": {},
   "source": [
    "## Structural Attribute Search and Chemical Search Combination\n",
    "\n",
    "Grouping of a Structural Attribute query and Chemical Attribute query is permitted as long as grouping is done correctly and search services are specified accordingly. Not the example below. More details on attributes that are available for text searches can be found on the [RCSB PDB Search API](https://search.rcsb.org/#search-attributes) page."
   ]
  },
  {
   "cell_type": "code",
   "execution_count": null,
   "id": "eef8a33f",
   "metadata": {},
   "outputs": [],
   "source": [
    "# By default, service is set to \"text\" for structural attribute search\n",
    "q1 = AttributeQuery(\"exptl.method\", \"exact_match\", \"electron microscopy\",\n",
    "                    STRUCTURE_ATTRIBUTE_SEARCH_SERVICE # this constant specifies \"text\" service\n",
    "                    )\n",
    "\n",
    "# Need to specify chemical attribute search service - \"text_chem\"\n",
    "q2 = AttributeQuery(\"drugbank_info.brand_names\", \"contains_phrase\", \"tylenol\",\n",
    "                    CHEMICAL_ATTRIBUTE_SEARCH_SERVICE # this constant specifies \"text_chem\" service\n",
    "                    )\n",
    "\n",
    "query = q1 & q2 # combining queries\n",
    "\n",
    "list(query())\n"
   ]
  },
  {
   "attachments": {},
   "cell_type": "markdown",
   "id": "4b9a442c",
   "metadata": {},
   "source": [
    "## Computed Structure Models\n",
    "\n",
    "The [RCSB PDB Search API](https://search.rcsb.org/#results_content_type) page provides information on how to include Computed Models into a search query. Here is a code example below.\n",
    "\n",
    "This query returns ID's for experimental and computed models associated with \"hemoglobin\". Queries with only computed models or only experimental models can be made."
   ]
  },
  {
   "cell_type": "code",
   "execution_count": null,
   "id": "85b707a5",
   "metadata": {},
   "outputs": [],
   "source": [
    "q1 = TextQuery(\"hemoglobin\")\n",
    "\n",
    "# add parameter as a list with either \"computational\" or \"experimental\" or both as list values\n",
    "q2 = q1(return_content_type=[\"computational\", \"experimental\"])\n",
    "\n",
    "list(q2)"
   ]
  },
  {
   "attachments": {},
   "cell_type": "markdown",
   "id": "2c4f3120",
   "metadata": {},
   "source": [
    "## Return Types and Attribute Search\n",
    "\n",
    "A search query can return different result types when a return type is specified. Below are examples on specifying return types Polymer Entities,\n",
    "\n",
    "Non-polymer Entities, Polymer Instances, and Molecular Definitions, using a Structure Attribute query. More information on return types can be found in the [RCSB PDB Search API](https://search.rcsb.org/#building-search-request) page."
   ]
  },
  {
   "cell_type": "code",
   "execution_count": null,
   "id": "508ba82a",
   "metadata": {},
   "outputs": [],
   "source": [
    "q1 = AttributeQuery(\"rcsb_entry_container_identifiers.entry_id\", \"in\", [\"4HHB\"]) # query for 4HHB deoxyhemoglobin\n",
    "\n",
    "print(\"Polymer Entities:\")\n",
    "for poly in q1(\"polymer_entity\"): # include return type as a string parameter for query object\n",
    "    print(poly)\n",
    "\n",
    "print(\"Non-polymer Entities:\")\n",
    "for nonPoly in q1(\"non_polymer_entity\"):\n",
    "    print(nonPoly)\n",
    "\n",
    "print(\"Polymer Instances:\")\n",
    "for polyInst in q1(\"polymer_instance\"):\n",
    "    print(polyInst)\n",
    "\n",
    "print(\"Molecular Definitions:\")\n",
    "for mol in q1(\"mol_definition\"):\n",
    "    print(mol)"
   ]
  },
  {
   "attachments": {},
   "cell_type": "markdown",
   "id": "e9c4bb0f",
   "metadata": {},
   "source": [
    "## Sequence Query\n",
    "\n",
    "Below is an example from the [RCSB PDB Search API](https://search.rcsb.org/#search-example-3) page. Queries can be made using DNA, RNA, and protein sequences when specified using the SearchQuery class. In this example, we are finding macromolecular PDB entities that share 90% sequence identity with GTPase HRas protein from *Gallus gallus* (*Chicken)*."
   ]
  },
  {
   "cell_type": "code",
   "execution_count": null,
   "id": "6be93cf2",
   "metadata": {},
   "outputs": [],
   "source": [
    "# Use SequenceQuery class and add parameters\n",
    "results = SequenceQuery(\"MTEYKLVVVGAGGVGKSALTIQLIQNHFVDEYDPTIEDSYRKQVVIDGET\" +\n",
    "                        \"CLLDILDTAGQEEYSAMRDQYMRTGEGFLCVFAINNTKSFEDIHQYREQI\" +\n",
    "                        \"KRVKDSDDVPMVLVGNKCDLPARTVETRQAQDLARSYGIPYIETSAKTRQ\" +\n",
    "                        \"GVEDAFYTLVREIRQHKLRKLNPPDESGPGCMNCKCVIS\", 1, 0.9)\n",
    "\n",
    "# results(\"polymer_entity\") produces an iterator of IDs with return type - polymer entities\n",
    "for polyid in results(\"polymer_entity\"):\n",
    "    print(polyid)"
   ]
  },
  {
   "attachments": {},
   "cell_type": "markdown",
   "id": "adopted-gnome",
   "metadata": {},
   "source": [
    "## Sequence Motif Query\n",
    "\n",
    "Below is an example from the [RCSB PDB Search API](https://search.rcsb.org/#search-example-6) page, using the sequence motif search function. \n",
    "This query retrives occurences of the His2/Cys2 Zinc Finger DNA-binding domain as represented by its PROSITE signature."
   ]
  },
  {
   "cell_type": "code",
   "execution_count": null,
   "id": "8a96fd62",
   "metadata": {},
   "outputs": [],
   "source": [
    "# Use SeqMotifQuery class and add parameters\n",
    "results = SeqMotifQuery(\"C-x(2,4)-C-x(3)-[LIVMFYWC]-x(8)-H-x(3,5)-H.\",\n",
    "                        pattern_type=\"prosite\",\n",
    "                        sequence_type=\"protein\")\n",
    "\n",
    "# results(\"polymer_entity\") produces an iterator of IDs with return type - polymer entities\n",
    "for polyid in results(\"polymer_entity\"):\n",
    "    print(polyid)"
   ]
  },
  {
   "cell_type": "markdown",
   "id": "0eaa8e55",
   "metadata": {},
   "source": [
    "Below is an example query for the zinc finger motif that binds Zn in a DNA-binding domain:"
   ]
  },
  {
   "cell_type": "code",
   "execution_count": null,
   "id": "8363d7e2",
   "metadata": {},
   "outputs": [],
   "source": [
    "results = SeqMotifQuery(\"C.{2,4}C.{12}H.{3,5}H\", pattern_type=\"regex\", sequence_type=\"protein\")\n",
    "\n",
    "for polyid in results(\"polymer_entity\"):\n",
    "    print(polyid)"
   ]
  },
  {
   "cell_type": "markdown",
   "id": "4d41bc89",
   "metadata": {},
   "source": [
    "Below is an example query for SH3 domains:"
   ]
  },
  {
   "cell_type": "code",
   "execution_count": null,
   "id": "22d92d94",
   "metadata": {},
   "outputs": [],
   "source": [
    "# By default, the pattern_type argument is \"simple\" and the sequence_type argument is \"protein\".\n",
    "results = SeqMotifQuery(\"XPPXP\")  # X is used as a \"variable residue\" and can be any amino acid. \n",
    "\n",
    "for polyid in results(\"polymer_entity\"):\n",
    "    print(polyid)"
   ]
  },
  {
   "cell_type": "markdown",
   "id": "baf150f9",
   "metadata": {},
   "source": [
    "All 3 of these pattern types can be used to search for DNA and RNA sequences as well.\n",
    "Demonstrated are 2 queries, one DNA and one RNA, using the simple pattern type:"
   ]
  },
  {
   "cell_type": "code",
   "execution_count": null,
   "id": "91b035e4",
   "metadata": {},
   "outputs": [],
   "source": [
    "from rcsbsearchapi.search import SeqMotifQuery\n",
    "\n",
    "# DNA query: this is a query for a T-Box.\n",
    "dna = SeqMotifQuery(\"TCACACCT\", sequence_type=\"dna\")\n",
    "\n",
    "print(\"DNA results:\")\n",
    "for polyid in dna(\"polymer_entity\"):\n",
    "    print(polyid)\n",
    "\n",
    "# RNA query: 6C RNA motif\n",
    "rna = SeqMotifQuery(\"CCCCCC\", sequence_type=\"rna\")\n",
    "print(\"RNA results:\")\n",
    "for polyid in rna(\"polymer_entity\"):\n",
    "    print(polyid)"
   ]
  },
  {
   "cell_type": "markdown",
   "id": "ad25a8a0",
   "metadata": {},
   "source": [
    "## Structure Similarity Query\n",
    "\n",
    "The PDB archive can be queried using the 3D shape of a protein structure. To perform this query, 3D protein structure data must be provided as an input or parameter, A chain ID or assembly ID must be specified, whether the input structure data should be compared to Assemblies or Polymer Entity Instance (Chains) is required, and defining the search type as either strict or relaxed is required. More information on how Structure Similarity Queries work can be found on the [RCSB PDB Structure Similarity Search](https://www.rcsb.org/docs/search-and-browse/advanced-search/structure-similarity-search) page."
   ]
  },
  {
   "cell_type": "code",
   "execution_count": null,
   "id": "13ab72d1",
   "metadata": {},
   "outputs": [],
   "source": [
    "# Basic query: querying using entry ID and default values assembly ID \"1\", operator \"strict\", and target search space \"Assemblies\"\n",
    "q1 = StructSimilarityQuery(value=\"4HHB\")\n",
    "\n",
    "# Same example but with parameters explicitly specified\n",
    "q1 = StructSimilarityQuery(structure_search_type=\"entry_id\",\n",
    "                           value=\"4HHB\",\n",
    "                           input_structure_type=\"assembly_id\",\n",
    "                           input_option=\"1\",\n",
    "                           operator=\"strict_shape_match\",\n",
    "                           target_search_space=\"assembly\"\n",
    "                           )\n",
    "for id in q1(\"assembly\"):\n",
    "    print(id)"
   ]
  },
  {
   "cell_type": "markdown",
   "id": "38ad5f07",
   "metadata": {},
   "source": [
    "Below is a more complex example that utilizes chain ID, relaxed search operator, and polymer entity instance or target search space. Specifying whether the input structure type is chain id or assembly id is very important. For example, specifying chain ID as the input structure type but inputting an assembly ID can lead to an error."
   ]
  },
  {
   "cell_type": "code",
   "execution_count": null,
   "id": "72d7cec5",
   "metadata": {},
   "outputs": [],
   "source": [
    "# More complex query with entry ID value \"4HHB\", chain ID \"B\", operator \"relaxed\", and target search space \"Chains\"\n",
    "q2 = StructSimilarityQuery(structure_search_type=\"entry_id\",\n",
    "                                   value=\"4HHB\",\n",
    "                                   input_structure_type=\"chain_id\",\n",
    "                                   input_option=\"B\",\n",
    "                                   operator=\"relaxed_shape_match\",\n",
    "                                   target_search_space=\"polymer_entity_instance\")\n",
    "list(q2())"
   ]
  },
  {
   "cell_type": "markdown",
   "id": "1144d0fb",
   "metadata": {},
   "source": [
    "Structure similarity queries also allow users to upload a file from their local computer or input a file url from the website to query the PDB archive for similar proteins. The file represents a target protein structure in the file formats \"cif\", \"bcif\", \"pdb\", \"cif.gz\", or \"pdb.gz\". If a user wants to use a file url for queries, the user must specify the structure search type, the value (being the url), and the file format of the file. This is also the same case for file upload, except the value is the absolute path leading to the file that is in the local machine. An example for file url is below for 4HHB (hemoglobin)."
   ]
  },
  {
   "cell_type": "code",
   "execution_count": null,
   "id": "2d83cd13",
   "metadata": {},
   "outputs": [],
   "source": [
    "q3 = StructSimilarityQuery(\"file_url\", \"https://files.rcsb.org/view/4HHB.cif\", input_option=\"cif\")\n",
    "\n",
    "# If using file upload, an example query would be like below:\n",
    "# q3 = StructSimilarityQuery(\"file_upload\", \"absolute path to the file\", input_structure_id=\"file format\")\n",
    "\n",
    "list(q3())"
   ]
  },
  {
   "cell_type": "markdown",
   "id": "5c306677",
   "metadata": {},
   "source": [
    "For a more practical example, see the [Covid-19 notebook](covid.ipynb)"
   ]
  }
 ],
 "metadata": {
  "kernelspec": {
   "display_name": "Python 3",
   "language": "python",
   "name": "python3"
  },
  "language_info": {
   "codemirror_mode": {
    "name": "ipython",
    "version": 3
   },
   "file_extension": ".py",
   "mimetype": "text/x-python",
   "name": "python",
   "nbconvert_exporter": "python",
   "pygments_lexer": "ipython3",
   "version": "3.11.3"
  },
  "toc": {
   "base_numbering": 1,
   "nav_menu": {},
   "number_sections": true,
   "sideBar": true,
   "skip_h1_title": false,
   "title_cell": "Table of Contents",
   "title_sidebar": "Contents",
   "toc_cell": false,
   "toc_position": {},
   "toc_section_display": true,
   "toc_window_display": false
  },
  "varInspector": {
   "cols": {
    "lenName": 16,
    "lenType": 16,
    "lenVar": 40
   },
   "kernels_config": {
    "python": {
     "delete_cmd_postfix": "",
     "delete_cmd_prefix": "del ",
     "library": "var_list.py",
     "varRefreshCmd": "print(var_dic_list())"
    },
    "r": {
     "delete_cmd_postfix": ") ",
     "delete_cmd_prefix": "rm(",
     "library": "var_list.r",
     "varRefreshCmd": "cat(var_dic_list()) "
    }
   },
   "types_to_exclude": [
    "module",
    "function",
    "builtin_function_or_method",
    "instance",
    "_Feature"
   ],
   "window_display": false
  }
 },
 "nbformat": 4,
 "nbformat_minor": 5
}
