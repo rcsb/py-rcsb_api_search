{
 "cells": [
  {
   "cell_type": "markdown",
   "id": "upper-filing",
   "metadata": {},
   "source": [
    "# rcsbsearch quickstart\n",
    "\n",
    "This notebook contains examples from the rcsbsearch [quickstart](https://rcsbsearch.readthedocs.io/en/latest/quickstart.html)"
   ]
  },
  {
   "cell_type": "code",
   "execution_count": 1,
   "id": "african-monthly",
   "metadata": {},
   "outputs": [],
   "source": [
    "from rcsbsearch import TextQuery\n",
    "from rcsbsearch import rcsb_attributes as attrs"
   ]
  },
  {
   "cell_type": "markdown",
   "id": "sublime-karen",
   "metadata": {},
   "source": [
    "## Operator syntax\n",
    "\n",
    "Here is an example from the RCSB Search API page, using the operator syntax. This query finds symmetric dimers having a twofold rotation with the DNA-binding domain of a heat-shock transcription factor.\n",
    "\n",
    "Note the use of standard comparison operators (`==`, `>` etc) for rcsb attributes and set operators for combining queries."
   ]
  },
  {
   "cell_type": "code",
   "execution_count": 2,
   "id": "enabling-america",
   "metadata": {},
   "outputs": [
    {
     "name": "stdout",
     "output_type": "stream",
     "text": [
      "3HTS-1\n",
      "1FYK-1\n",
      "1FYL-1\n",
      "1FYL-2\n",
      "1FYM-1\n",
      "5D5X-1\n",
      "5D5W-1\n",
      "5D8K-1\n",
      "5D8L-1\n",
      "5D8L-2\n",
      "7DCI-1\n",
      "5D5U-1\n",
      "5D5V-1\n",
      "5HDN-1\n",
      "5HDN-2\n",
      "7DCJ-1\n",
      "7DCT-1\n",
      "7DCT-2\n"
     ]
    }
   ],
   "source": [
    "# Create terminals for each query\n",
    "q1 = TextQuery('\"heat-shock transcription factor\"')\n",
    "q2 = attrs.rcsb_struct_symmetry.symbol == \"C2\"\n",
    "q3 = attrs.rcsb_struct_symmetry.kind == \"Global Symmetry\"\n",
    "q4 = attrs.rcsb_entry_info.polymer_entity_count_DNA >= 1\n",
    "\n",
    "# combined using bitwise operators (&, |, ~, etc)\n",
    "query = q1 & q2 & q3 & q4  # AND of all queries\n",
    "\n",
    "# Call the query to execute it\n",
    "for assemblyid in query(\"assembly\"):\n",
    "    print(assemblyid)\n"
   ]
  },
  {
   "cell_type": "markdown",
   "id": "accomplished-passion",
   "metadata": {},
   "source": [
    "Attribute names can be found in the [RCSB schema](http://search.rcsb.org/rcsbsearch/v1/metadata/schema). They can also be found via tab completion, or by iterating:"
   ]
  },
  {
   "cell_type": "code",
   "execution_count": 3,
   "id": "supported-observer",
   "metadata": {},
   "outputs": [
    {
     "data": {
      "text/plain": [
       "['citation.rcsb_authors',\n",
       " 'pdbx_nmr_software.authors',\n",
       " 'rcsb_primary_citation.rcsb_authors']"
      ]
     },
     "execution_count": 3,
     "metadata": {},
     "output_type": "execute_result"
    }
   ],
   "source": [
    "[a.attribute for a in attrs if \"authors\" in a.attribute]"
   ]
  },
  {
   "cell_type": "markdown",
   "id": "other-grant",
   "metadata": {},
   "source": [
    "## Fluent syntax\n",
    "\n",
    "Here is the same example using the fluent syntax:"
   ]
  },
  {
   "cell_type": "code",
   "execution_count": 4,
   "id": "polish-indonesia",
   "metadata": {},
   "outputs": [
    {
     "name": "stdout",
     "output_type": "stream",
     "text": [
      "3HTS-1\n",
      "1FYK-1\n",
      "1FYL-1\n",
      "1FYL-2\n",
      "1FYM-1\n",
      "5D5X-1\n",
      "5D5W-1\n",
      "5D8K-1\n",
      "5D8L-1\n",
      "5D8L-2\n",
      "7DCI-1\n",
      "5D5U-1\n",
      "5D5V-1\n",
      "5HDN-1\n",
      "5HDN-2\n",
      "7DCJ-1\n",
      "7DCT-1\n",
      "7DCT-2\n"
     ]
    }
   ],
   "source": [
    "# Start with a Attr or TextQuery, then add terms\n",
    "results = TextQuery('\"heat-shock transcription factor\"') \\\n",
    "    .and_(\"rcsb_struct_symmetry.symbol\").exact_match(\"C2\") \\\n",
    "    .and_(\"rcsb_struct_symmetry.kind\").exact_match(\"Global Symmetry\") \\\n",
    "    .and_(\"rcsb_entry_info.polymer_entity_count_DNA\").greater_or_equal(1) \\\n",
    "    .exec(\"assembly\")\n",
    "\n",
    "# Exec produces an iterator of IDs\n",
    "for assemblyid in results:\n",
    "    print(assemblyid)"
   ]
  },
  {
   "cell_type": "markdown",
   "id": "adopted-gnome",
   "metadata": {},
   "source": [
    "For a more practical example, see the [Covid-19 notebook](covid.ipynb)"
   ]
  }
 ],
 "metadata": {
  "kernelspec": {
   "display_name": "Python 3",
   "language": "python",
   "name": "python3"
  },
  "language_info": {
   "codemirror_mode": {
    "name": "ipython",
    "version": 3
   },
   "file_extension": ".py",
   "mimetype": "text/x-python",
   "name": "python",
   "nbconvert_exporter": "python",
   "pygments_lexer": "ipython3",
   "version": "3.11.3"
  },
  "toc": {
   "base_numbering": 1,
   "nav_menu": {},
   "number_sections": true,
   "sideBar": true,
   "skip_h1_title": false,
   "title_cell": "Table of Contents",
   "title_sidebar": "Contents",
   "toc_cell": false,
   "toc_position": {},
   "toc_section_display": true,
   "toc_window_display": false
  },
  "varInspector": {
   "cols": {
    "lenName": 16,
    "lenType": 16,
    "lenVar": 40
   },
   "kernels_config": {
    "python": {
     "delete_cmd_postfix": "",
     "delete_cmd_prefix": "del ",
     "library": "var_list.py",
     "varRefreshCmd": "print(var_dic_list())"
    },
    "r": {
     "delete_cmd_postfix": ") ",
     "delete_cmd_prefix": "rm(",
     "library": "var_list.r",
     "varRefreshCmd": "cat(var_dic_list()) "
    }
   },
   "types_to_exclude": [
    "module",
    "function",
    "builtin_function_or_method",
    "instance",
    "_Feature"
   ],
   "window_display": false
  }
 },
 "nbformat": 4,
 "nbformat_minor": 5
}
