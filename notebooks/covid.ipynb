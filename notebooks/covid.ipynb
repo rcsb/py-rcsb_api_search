{
 "cells": [
  {
   "attachments": {},
   "cell_type": "markdown",
   "id": "metallic-memphis",
   "metadata": {},
   "source": [
    "# rcsbsearchapi\n",
    "\n",
    "Access the RCSB advanced search from python: [rcsbsearchapi.readthedocs.io](https://rcsbsearchapi.readthedocs.io)\n",
    "\n",
    "    pip install rcsbsearchapi\n",
    "    \n",
    "## Demo\n",
    "\n",
    "We are interested in how the antiviral drug boceprevir interacts with the Covid-19 virus. \n",
    "- Source Organism is \"COVID-19 virus\"\n",
    "- Structure title contains \"protease\"\n",
    "- Bound to ligand \"Boceprevir\"\n",
    "- With resolution at least 1.5\n",
    "\n",
    "[RCSB Query](https://www.rcsb.org/search?request=%7B%22query%22%3A%7B%22type%22%3A%22group%22%2C%22logical_operator%22%3A%22and%22%2C%22nodes%22%3A%5B%7B%22type%22%3A%22group%22%2C%22logical_operator%22%3A%22and%22%2C%22nodes%22%3A%5B%7B%22type%22%3A%22group%22%2C%22nodes%22%3A%5B%7B%22type%22%3A%22terminal%22%2C%22service%22%3A%22full_text%22%2C%22parameters%22%3A%7B%22value%22%3A%22protease%22%7D%7D%5D%2C%22logical_operator%22%3A%22and%22%7D%5D%2C%22label%22%3A%22full_text%22%7D%2C%7B%22type%22%3A%22group%22%2C%22logical_operator%22%3A%22and%22%2C%22nodes%22%3A%5B%7B%22type%22%3A%22group%22%2C%22nodes%22%3A%5B%7B%22type%22%3A%22terminal%22%2C%22service%22%3A%22text_chem%22%2C%22parameters%22%3A%7B%22attribute%22%3A%22chem_comp.name%22%2C%22operator%22%3A%22contains_words%22%2C%22negation%22%3Afalse%2C%22value%22%3A%22Boceprevir%22%7D%7D%5D%2C%22logical_operator%22%3A%22and%22%7D%5D%2C%22label%22%3A%22text_chem%22%7D%2C%7B%22type%22%3A%22group%22%2C%22logical_operator%22%3A%22and%22%2C%22nodes%22%3A%5B%7B%22type%22%3A%22group%22%2C%22nodes%22%3A%5B%7B%22type%22%3A%22terminal%22%2C%22service%22%3A%22text%22%2C%22parameters%22%3A%7B%22attribute%22%3A%22rcsb_entity_source_organism.taxonomy_lineage.name%22%2C%22operator%22%3A%22exact_match%22%2C%22negation%22%3Afalse%2C%22value%22%3A%22COVID-19%20virus%22%7D%7D%5D%2C%22logical_operator%22%3A%22and%22%7D%2C%7B%22type%22%3A%22group%22%2C%22nodes%22%3A%5B%7B%22type%22%3A%22terminal%22%2C%22service%22%3A%22text%22%2C%22parameters%22%3A%7B%22attribute%22%3A%22rcsb_entry_info.diffrn_resolution_high.value%22%2C%22operator%22%3A%22greater%22%2C%22negation%22%3Afalse%2C%22value%22%3A1.5%7D%7D%5D%2C%22logical_operator%22%3A%22and%22%7D%5D%2C%22label%22%3A%22text%22%7D%5D%7D%2C%22return_type%22%3A%22entry%22%2C%22request_options%22%3A%7B%22paginate%22%3A%7B%22start%22%3A0%2C%22rows%22%3A25%7D%2C%22results_content_type%22%3A%5B%22experimental%22%5D%2C%22sort%22%3A%5B%7B%22sort_by%22%3A%22score%22%2C%22direction%22%3A%22desc%22%7D%5D%2C%22scoring_strategy%22%3A%22combined%22%7D%2C%22request_info%22%3A%7B%22query_id%22%3A%224a448274ca176680bee98f84fa3614be%22%7D%7D)"
   ]
  },
  {
   "cell_type": "code",
   "execution_count": null,
   "id": "married-burden",
   "metadata": {},
   "outputs": [],
   "source": [
    "from rcsbsearchapi import rcsb_attributes as attrs, TextQuery\n",
    "from rcsbsearchapi.search import Facet\n",
    "import nglview"
   ]
  },
  {
   "attachments": {},
   "cell_type": "markdown",
   "id": "collectible-thread",
   "metadata": {},
   "source": [
    "## Operator syntax\n",
    "- Uses python comparison operators for basic attributes (`==`, `<`, `<=`, etc)\n",
    "- Combine using set operators (`&`, `|`, `~`, etc)\n",
    "- Execute queries as functions"
   ]
  },
  {
   "cell_type": "code",
   "execution_count": null,
   "id": "confidential-behavior",
   "metadata": {},
   "outputs": [],
   "source": [
    "q1 = attrs.rcsb_entity_source_organism.taxonomy_lineage.name == \"COVID-19 virus\"\n",
    "q2 = TextQuery(\"protease\")\n",
    "q3 = attrs.chem_comp.name.contains_words(\"Boceprevir\")\n",
    "q4 = attrs.rcsb_entry_info.resolution_combined > 1.5\n",
    "query = q1 & q2 & q3 & q4\n",
    "\n",
    "# Categorize results by release year\n",
    "print(query.facets(facets=Facet(name=\"Release Date\", aggregation_type=\"date_histogram\", attribute=\"rcsb_accession_info.initial_release_date\", interval=\"year\")))\n",
    "\n",
    "list(query(results_verbosity=\"minimal\"))"
   ]
  },
  {
   "cell_type": "code",
   "execution_count": null,
   "id": "unauthorized-judge",
   "metadata": {
    "scrolled": true
   },
   "outputs": [],
   "source": [
    "nglview.show_pdbid('7brp')"
   ]
  },
  {
   "attachments": {},
   "cell_type": "markdown",
   "id": "uniform-allen",
   "metadata": {},
   "source": [
    "## Fluent syntax\n",
    "\n",
    "A second syntax is available with a [fluent interface](https://en.wikipedia.org/wiki/Fluent_interface), similar to popular data science packages like tidyverse and Apache Spark. Function calls  are chained together.\n",
    "\n",
    "Here's an example around a second antiviral, remdesivir. The drug interferes with RNA polymerase, replacing an adenine and causing early chain termination. When integrated into RNA, the nucleotide formed from remdesivir has residue code F86."
   ]
  },
  {
   "cell_type": "code",
   "execution_count": null,
   "id": "irish-navigator",
   "metadata": {
    "scrolled": true
   },
   "outputs": [],
   "source": [
    "attrs.struct.title.contains_phrase(\"RNA polymerase\")\\\n",
    "    .or_(attrs.struct.title).contains_words(\"RdRp\")\\\n",
    "    .and_(attrs.rcsb_entity_source_organism.taxonomy_lineage.name).exact_match(\"COVID-19 virus\")\\\n",
    "    .and_(attrs.rcsb_chem_comp_container_identifiers.comp_id).exact_match(\"F86\")\\\n",
    "    .exec()\\\n",
    "    .iquery()\n"
   ]
  },
  {
   "cell_type": "code",
   "execution_count": null,
   "id": "genuine-partner",
   "metadata": {
    "scrolled": true
   },
   "outputs": [],
   "source": [
    "view = nglview.show_pdbid('7B3C', default_representation=False)\n",
    "#view.get_state()['_camera_orientation']\n",
    "o = [6, 3, 23, 0, 23, 1, -6, 0, -2, 24, -2, 0, -84, -92, -109, 1]\n",
    "view.control.orient(o)\n",
    "view.add_surface(sele=\"protein\", opacity=.8, color=\"electrostatic\")\n",
    "view.add_cartoon(sele=\"rna\", color=\"cyan\")\n",
    "view.add_licorice(sele=\"rna\", color=\"cyan\")\n",
    "view.add_spacefill(sele=\"F86\")\n",
    "view"
   ]
  },
  {
   "attachments": {},
   "cell_type": "markdown",
   "id": "distant-graduate",
   "metadata": {},
   "source": [
    "## Try it!\n",
    "\n",
    "[rcsbsearchapi.readthedocs.io](rcsbsearchapi.readthedocs.io)"
   ]
  }
 ],
 "metadata": {
  "kernelspec": {
   "display_name": "Python 3",
   "language": "python",
   "name": "python3"
  },
  "language_info": {
   "codemirror_mode": {
    "name": "ipython",
    "version": 3
   },
   "file_extension": ".py",
   "mimetype": "text/x-python",
   "name": "python",
   "nbconvert_exporter": "python",
   "pygments_lexer": "ipython3",
   "version": "3.11.1"
  },
  "toc": {
   "base_numbering": 1,
   "nav_menu": {},
   "number_sections": true,
   "sideBar": true,
   "skip_h1_title": false,
   "title_cell": "Table of Contents",
   "title_sidebar": "Contents",
   "toc_cell": false,
   "toc_position": {},
   "toc_section_display": true,
   "toc_window_display": false
  },
  "varInspector": {
   "cols": {
    "lenName": 16,
    "lenType": 16,
    "lenVar": 40
   },
   "kernels_config": {
    "python": {
     "delete_cmd_postfix": "",
     "delete_cmd_prefix": "del ",
     "library": "var_list.py",
     "varRefreshCmd": "print(var_dic_list())"
    },
    "r": {
     "delete_cmd_postfix": ") ",
     "delete_cmd_prefix": "rm(",
     "library": "var_list.r",
     "varRefreshCmd": "cat(var_dic_list()) "
    }
   },
   "types_to_exclude": [
    "module",
    "function",
    "builtin_function_or_method",
    "instance",
    "_Feature"
   ],
   "window_display": false
  }
 },
 "nbformat": 4,
 "nbformat_minor": 5
}
